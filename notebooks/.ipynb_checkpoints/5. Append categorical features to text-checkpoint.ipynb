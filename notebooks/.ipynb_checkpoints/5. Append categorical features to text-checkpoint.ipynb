{
 "cells": [
  {
   "cell_type": "markdown",
   "id": "12459307",
   "metadata": {},
   "source": [
    "# ABOUT:\n",
    "- this notebook:\n",
    "    1. **append categorical features as a string** to the end of the \"text\" feature\n",
    "        - rationale:\n",
    "            - appending good predictors of spam as text can help BERT learn to predict spam better\n",
    "    2. tokenize in preparation for input for transformers"
   ]
  },
  {
   "cell_type": "code",
   "execution_count": 1,
   "id": "84047b21",
   "metadata": {},
   "outputs": [],
   "source": [
    "import pandas as pd\n",
    "df = pd.read_csv(r\"C:\\Users\\tanch\\Documents\\GitHub\\Spam Detection (local)\\data\\smsdata.txt\", sep = \"\\t\",names = ['label','text'])"
   ]
  },
  {
   "cell_type": "markdown",
   "id": "43d2313c",
   "metadata": {},
   "source": [
    "## Extract categorical features"
   ]
  },
  {
   "cell_type": "markdown",
   "id": "319a11f1",
   "metadata": {},
   "source": [
    "- based on past work and visualisation we found that:\n",
    "    1. emails with large number of digits are very likely to be spam\n",
    "    2. emails that contain pounds sign are very likely to be spam\n",
    "    3. emails that contain links are very liekly to be spam\n",
    "    4. emails that contain Ellipses are very liekly to be NOT spam\n",
    "    5. emails that contain happy faces are very liekly to be NOT spam"
   ]
  },
  {
   "cell_type": "code",
   "execution_count": 3,
   "id": "c24a7108",
   "metadata": {},
   "outputs": [],
   "source": [
    "def happy_face_feature(text):\n",
    "    if ':)' in text or ':-)' in text:\n",
    "        return \"Contains happy face.\"\n",
    "    return \"\"\n",
    "df['happy_face']=df['text'].apply(lambda text:happy_face_feature(text))"
   ]
  },
  {
   "cell_type": "code",
   "execution_count": 5,
   "id": "81d3439d",
   "metadata": {},
   "outputs": [],
   "source": [
    "def ellipses_feature(text):\n",
    "    return \"\" if \"..\" not in text else \"Contains ellipses.\"\n",
    "df['ellipses']=df['text'].apply(lambda text:ellipses_feature(text))"
   ]
  },
  {
   "cell_type": "code",
   "execution_count": 6,
   "id": "2a0b7464",
   "metadata": {},
   "outputs": [],
   "source": [
    "def links_feature(text):\n",
    "    if 'www.' in text.lower() or 'http' in text.lower():\n",
    "        return \"Contains links.\"\n",
    "    return \"\"\n",
    "df['links']=df['text'].apply(lambda text:links_feature(text))"
   ]
  },
  {
   "cell_type": "code",
   "execution_count": 8,
   "id": "331a8ae5",
   "metadata": {},
   "outputs": [],
   "source": [
    "def pounds_feature(text):\n",
    "    if '£' in text:\n",
    "        return \"Contains pounds sign.\"\n",
    "    return \"\"\n",
    "df['pounds']=df['text'].apply(lambda text:pounds_feature(text))"
   ]
  },
  {
   "cell_type": "code",
   "execution_count": 9,
   "id": "86fdc040",
   "metadata": {},
   "outputs": [],
   "source": [
    "def digits_feature(text):\n",
    "    count = 0\n",
    "    for c in text:\n",
    "        if c.isdigit():\n",
    "            count+=1\n",
    "        if count>10:\n",
    "            return \"Contains many digits.\"\n",
    "    return \"\"       \n",
    "df['many_digits']=df['text'].apply(lambda text:digits_feature(text))"
   ]
  },
  {
   "cell_type": "markdown",
   "id": "9446dee6",
   "metadata": {},
   "source": [
    "# add categorical features into text"
   ]
  },
  {
   "cell_type": "code",
   "execution_count": 12,
   "id": "3b9489e2",
   "metadata": {},
   "outputs": [],
   "source": [
    "text_features = ['text', 'happy_face', 'ellipses', 'links', 'pounds','many_digits']\n",
    "df['amended_text'] = \"\"\n",
    "for col in text_features:\n",
    "    df['amended_text']+=df[col]"
   ]
  },
  {
   "cell_type": "code",
   "execution_count": 19,
   "id": "f0072458",
   "metadata": {},
   "outputs": [],
   "source": [
    "from datasets import ClassLabel, Sequence\n",
    "import pandas as pd\n",
    "from IPython.display import display, HTML\n",
    "def show_elements(dataset, randomize = True, num_samples = 10):\n",
    "    \n",
    "    if isinstance(dataset,pd.DataFrame):                  # if DataFrame \n",
    "        if randomize:                                          # if random> shuffle\n",
    "            dataset = dataset.sample(frac=1)\n",
    "        display(HTML(dataset.iloc[:num_samples].to_html()))             # take first n rows\n",
    "    \n",
    "    else:                                                    # if not DataFrame\n",
    "        if randomize:                                           # if random> shuffle\n",
    "            dataset = dataset.shuffle()   \n",
    "        dataset = pd.DataFrame(dataset.select(range(num_samples)))   # convert first n rows to dataframe\n",
    "        display(HTML(dataset.to_html()))\n",
    "    "
   ]
  },
  {
   "cell_type": "code",
   "execution_count": 22,
   "id": "cddd7b72",
   "metadata": {},
   "outputs": [
    {
     "data": {
      "text/html": [
       "<table border=\"1\" class=\"dataframe\">\n",
       "  <thead>\n",
       "    <tr style=\"text-align: right;\">\n",
       "      <th></th>\n",
       "      <th>label</th>\n",
       "      <th>text</th>\n",
       "      <th>happy_face</th>\n",
       "      <th>ellipses</th>\n",
       "      <th>links</th>\n",
       "      <th>pounds</th>\n",
       "      <th>many_digits</th>\n",
       "      <th>amended_text</th>\n",
       "    </tr>\n",
       "  </thead>\n",
       "  <tbody>\n",
       "    <tr>\n",
       "      <th>2649</th>\n",
       "      <td>0</td>\n",
       "      <td>Hi, can i please get a  &amp;lt;#&amp;gt;  dollar loan from you. I.ll pay you back by mid february. Pls.</td>\n",
       "      <td></td>\n",
       "      <td></td>\n",
       "      <td></td>\n",
       "      <td></td>\n",
       "      <td></td>\n",
       "      <td>Hi, can i please get a  &amp;lt;#&amp;gt;  dollar loan from you. I.ll pay you back by mid february. Pls.</td>\n",
       "    </tr>\n",
       "    <tr>\n",
       "      <th>2003</th>\n",
       "      <td>1</td>\n",
       "      <td>TheMob&gt;Yo yo yo-Here comes a new selection of hot downloads for our members to get for FREE! Just click &amp; open the next link sent to ur fone...</td>\n",
       "      <td></td>\n",
       "      <td>Contains ellipses.</td>\n",
       "      <td></td>\n",
       "      <td></td>\n",
       "      <td></td>\n",
       "      <td>TheMob&gt;Yo yo yo-Here comes a new selection of hot downloads for our members to get for FREE! Just click &amp; open the next link sent to ur fone...Contains ellipses.</td>\n",
       "    </tr>\n",
       "    <tr>\n",
       "      <th>2094</th>\n",
       "      <td>1</td>\n",
       "      <td>Final Chance! Claim ur £150 worth of discount vouchers today! Text YES to 85023 now! SavaMob, member offers mobile! T Cs SavaMob POBOX84, M263UZ. £3.00 Subs 16</td>\n",
       "      <td></td>\n",
       "      <td></td>\n",
       "      <td></td>\n",
       "      <td>Contains pounds sign.</td>\n",
       "      <td>Contains many digits.</td>\n",
       "      <td>Final Chance! Claim ur £150 worth of discount vouchers today! Text YES to 85023 now! SavaMob, member offers mobile! T Cs SavaMob POBOX84, M263UZ. £3.00 Subs 16Contains pounds sign.Contains many digits.</td>\n",
       "    </tr>\n",
       "    <tr>\n",
       "      <th>1303</th>\n",
       "      <td>0</td>\n",
       "      <td>FRAN I DECIDED 2 GO N E WAY IM COMPLETELY BROKE AN KNACKERED I GOT UP BOUT 3 C U 2MRW LOVE JANX P.S THIS IS MY DADS FONE, -NO CREDIT</td>\n",
       "      <td></td>\n",
       "      <td></td>\n",
       "      <td></td>\n",
       "      <td></td>\n",
       "      <td></td>\n",
       "      <td>FRAN I DECIDED 2 GO N E WAY IM COMPLETELY BROKE AN KNACKERED I GOT UP BOUT 3 C U 2MRW LOVE JANX P.S THIS IS MY DADS FONE, -NO CREDIT</td>\n",
       "    </tr>\n",
       "    <tr>\n",
       "      <th>226</th>\n",
       "      <td>0</td>\n",
       "      <td>Would really appreciate if you call me. Just need someone to talk to.</td>\n",
       "      <td></td>\n",
       "      <td></td>\n",
       "      <td></td>\n",
       "      <td></td>\n",
       "      <td></td>\n",
       "      <td>Would really appreciate if you call me. Just need someone to talk to.</td>\n",
       "    </tr>\n",
       "    <tr>\n",
       "      <th>4012</th>\n",
       "      <td>1</td>\n",
       "      <td>Please call our customer service representative on FREEPHONE 0808 145 4742 between 9am-11pm as you have WON a guaranteed £1000 cash or £5000 prize!</td>\n",
       "      <td></td>\n",
       "      <td></td>\n",
       "      <td></td>\n",
       "      <td>Contains pounds sign.</td>\n",
       "      <td>Contains many digits.</td>\n",
       "      <td>Please call our customer service representative on FREEPHONE 0808 145 4742 between 9am-11pm as you have WON a guaranteed £1000 cash or £5000 prize!Contains pounds sign.Contains many digits.</td>\n",
       "    </tr>\n",
       "    <tr>\n",
       "      <th>5412</th>\n",
       "      <td>0</td>\n",
       "      <td>Gr8. So how do you handle the victoria island traffic. Plus when's the album due</td>\n",
       "      <td></td>\n",
       "      <td></td>\n",
       "      <td></td>\n",
       "      <td></td>\n",
       "      <td></td>\n",
       "      <td>Gr8. So how do you handle the victoria island traffic. Plus when's the album due</td>\n",
       "    </tr>\n",
       "    <tr>\n",
       "      <th>4095</th>\n",
       "      <td>0</td>\n",
       "      <td>how are you? I miss you!</td>\n",
       "      <td></td>\n",
       "      <td></td>\n",
       "      <td></td>\n",
       "      <td></td>\n",
       "      <td></td>\n",
       "      <td>how are you? I miss you!</td>\n",
       "    </tr>\n",
       "    <tr>\n",
       "      <th>4077</th>\n",
       "      <td>1</td>\n",
       "      <td>87077: Kick off a new season with 2wks FREE goals &amp; news to ur mobile! Txt ur club name to 87077 eg VILLA to 87077</td>\n",
       "      <td></td>\n",
       "      <td></td>\n",
       "      <td></td>\n",
       "      <td></td>\n",
       "      <td>Contains many digits.</td>\n",
       "      <td>87077: Kick off a new season with 2wks FREE goals &amp; news to ur mobile! Txt ur club name to 87077 eg VILLA to 87077Contains many digits.</td>\n",
       "    </tr>\n",
       "    <tr>\n",
       "      <th>4606</th>\n",
       "      <td>0</td>\n",
       "      <td>I need an 8th but I'm off campus atm, could I pick up in an hour or two?</td>\n",
       "      <td></td>\n",
       "      <td></td>\n",
       "      <td></td>\n",
       "      <td></td>\n",
       "      <td></td>\n",
       "      <td>I need an 8th but I'm off campus atm, could I pick up in an hour or two?</td>\n",
       "    </tr>\n",
       "  </tbody>\n",
       "</table>"
      ],
      "text/plain": [
       "<IPython.core.display.HTML object>"
      ]
     },
     "metadata": {},
     "output_type": "display_data"
    }
   ],
   "source": [
    "show_elements(df)"
   ]
  },
  {
   "cell_type": "markdown",
   "id": "6d74c187",
   "metadata": {},
   "source": [
    "### encode label"
   ]
  },
  {
   "cell_type": "code",
   "execution_count": 21,
   "id": "edfdb7c5",
   "metadata": {},
   "outputs": [],
   "source": [
    "df.label = df.label.map({\"spam\":1,\"good\":0})"
   ]
  },
  {
   "cell_type": "markdown",
   "id": "9defdc2b",
   "metadata": {},
   "source": [
    "### tokenize"
   ]
  },
  {
   "cell_type": "code",
   "execution_count": 24,
   "id": "c4d9f3e2",
   "metadata": {},
   "outputs": [
    {
     "data": {
      "text/plain": [
       "DatasetDict({\n",
       "    train: Dataset({\n",
       "        features: ['label', 'amended_text'],\n",
       "        num_rows: 3900\n",
       "    })\n",
       "    test: Dataset({\n",
       "        features: ['label', 'amended_text'],\n",
       "        num_rows: 1672\n",
       "    })\n",
       "})"
      ]
     },
     "execution_count": 24,
     "metadata": {},
     "output_type": "execute_result"
    }
   ],
   "source": [
    "from datasets import Dataset\n",
    "amended_Dataset = Dataset.from_pandas(df[[\"label\",\"amended_text\"]])\n",
    "amended_Dataset = amended_Dataset.train_test_split(0.3,seed=1)\n",
    "amended_Dataset"
   ]
  },
  {
   "cell_type": "code",
   "execution_count": 25,
   "id": "d8fbce9f",
   "metadata": {},
   "outputs": [],
   "source": [
    "max_length = 100"
   ]
  },
  {
   "cell_type": "code",
   "execution_count": 26,
   "id": "0ca258a8",
   "metadata": {},
   "outputs": [],
   "source": [
    "from transformers import AutoTokenizer\n",
    "model_checkpoint = \"distilroberta-base\"\n",
    "tokenizer = AutoTokenizer.from_pretrained(model_checkpoint)"
   ]
  },
  {
   "cell_type": "code",
   "execution_count": 27,
   "id": "5359e6a3",
   "metadata": {},
   "outputs": [],
   "source": [
    "def tokenize(examples):\n",
    "    return tokenizer(examples['amended_text'],\n",
    "                     max_length = max_length,\n",
    "                     padding = \"max_length\",\n",
    "                     truncation = True)"
   ]
  },
  {
   "cell_type": "code",
   "execution_count": 28,
   "id": "46cd903b",
   "metadata": {},
   "outputs": [
    {
     "data": {
      "application/vnd.jupyter.widget-view+json": {
       "model_id": "b7fa66e1c03345168655e113766bef17",
       "version_major": 2,
       "version_minor": 0
      },
      "text/plain": [
       "HBox(children=(FloatProgress(value=0.0, max=3900.0), HTML(value='')))"
      ]
     },
     "metadata": {},
     "output_type": "display_data"
    },
    {
     "name": "stdout",
     "output_type": "stream",
     "text": [
      "\n"
     ]
    },
    {
     "data": {
      "application/vnd.jupyter.widget-view+json": {
       "model_id": "f80883ff69924fb3a9acff2cf3fdff88",
       "version_major": 2,
       "version_minor": 0
      },
      "text/plain": [
       "HBox(children=(FloatProgress(value=0.0, max=1672.0), HTML(value='')))"
      ]
     },
     "metadata": {},
     "output_type": "display_data"
    },
    {
     "name": "stdout",
     "output_type": "stream",
     "text": [
      "\n"
     ]
    }
   ],
   "source": [
    "tokenized_amended_Dataset = amended_Dataset.map(tokenize)"
   ]
  },
  {
   "cell_type": "code",
   "execution_count": 30,
   "id": "ea92001d",
   "metadata": {
    "scrolled": true
   },
   "outputs": [
    {
     "data": {
      "text/html": [
       "<table border=\"1\" class=\"dataframe\">\n",
       "  <thead>\n",
       "    <tr style=\"text-align: right;\">\n",
       "      <th></th>\n",
       "      <th>amended_text</th>\n",
       "      <th>attention_mask</th>\n",
       "      <th>input_ids</th>\n",
       "      <th>label</th>\n",
       "    </tr>\n",
       "  </thead>\n",
       "  <tbody>\n",
       "    <tr>\n",
       "      <th>0</th>\n",
       "      <td>Urgent! call 09066350750 from your landline. Your complimentary 4* Ibiza Holiday or 10,000 cash await collection SAE T&amp;Cs PO BOX 434 SK3 8WP 150 ppm 18+Contains many digits.</td>\n",
       "      <td>[1, 1, 1, 1, 1, 1, 1, 1, 1, 1, 1, 1, 1, 1, 1, 1, 1, 1, 1, 1, 1, 1, 1, 1, 1, 1, 1, 1, 1, 1, 1, 1, 1, 1, 1, 1, 1, 1, 1, 1, 1, 1, 1, 1, 1, 1, 1, 1, 1, 1, 1, 1, 0, 0, 0, 0, 0, 0, 0, 0, 0, 0, 0, 0, 0, 0, 0, 0, 0, 0, 0, 0, 0, 0, 0, 0, 0, 0, 0, 0, 0, 0, 0, 0, 0, 0, 0, 0, 0, 0, 0, 0, 0, 0, 0, 0, 0, 0, 0, 0]</td>\n",
       "      <td>[0, 38046, 13907, 328, 486, 321, 3248, 4280, 10056, 10569, 31, 110, 1212, 1902, 4, 2486, 22310, 204, 3226, 14643, 10071, 10824, 50, 158, 6, 151, 1055, 17396, 2783, 208, 16329, 255, 947, 31229, 17182, 40007, 204, 3079, 14795, 246, 290, 28435, 3982, 42805, 504, 2744, 26412, 5069, 171, 15769, 4, 2, 1, 1, 1, 1, 1, 1, 1, 1, 1, 1, 1, 1, 1, 1, 1, 1, 1, 1, 1, 1, 1, 1, 1, 1, 1, 1, 1, 1, 1, 1, 1, 1, 1, 1, 1, 1, 1, 1, 1, 1, 1, 1, 1, 1, 1, 1, 1, 1]</td>\n",
       "      <td>1</td>\n",
       "    </tr>\n",
       "    <tr>\n",
       "      <th>1</th>\n",
       "      <td>PRIVATE! Your 2004 Account Statement for 07742676969 shows 786 unredeemed Bonus Points. To claim call 08719180248 Identifier Code: 45239 ExpiresContains many digits.</td>\n",
       "      <td>[1, 1, 1, 1, 1, 1, 1, 1, 1, 1, 1, 1, 1, 1, 1, 1, 1, 1, 1, 1, 1, 1, 1, 1, 1, 1, 1, 1, 1, 1, 1, 1, 1, 1, 1, 1, 1, 1, 1, 1, 1, 1, 1, 1, 1, 1, 1, 0, 0, 0, 0, 0, 0, 0, 0, 0, 0, 0, 0, 0, 0, 0, 0, 0, 0, 0, 0, 0, 0, 0, 0, 0, 0, 0, 0, 0, 0, 0, 0, 0, 0, 0, 0, 0, 0, 0, 0, 0, 0, 0, 0, 0, 0, 0, 0, 0, 0, 0, 0, 0]</td>\n",
       "      <td>[0, 4454, 6372, 8625, 328, 2486, 4482, 16036, 19356, 13, 321, 39786, 28497, 4563, 4563, 924, 262, 5334, 542, 2050, 242, 33578, 32844, 19378, 4, 598, 2026, 486, 321, 5677, 1646, 14515, 28654, 28763, 24072, 8302, 35, 2248, 29561, 12806, 7948, 26412, 5069, 171, 15769, 4, 2, 1, 1, 1, 1, 1, 1, 1, 1, 1, 1, 1, 1, 1, 1, 1, 1, 1, 1, 1, 1, 1, 1, 1, 1, 1, 1, 1, 1, 1, 1, 1, 1, 1, 1, 1, 1, 1, 1, 1, 1, 1, 1, 1, 1, 1, 1, 1, 1, 1, 1, 1, 1, 1]</td>\n",
       "      <td>1</td>\n",
       "    </tr>\n",
       "    <tr>\n",
       "      <th>2</th>\n",
       "      <td>I'm so in love with you. I'm excited each day i spend with you. You make me so happy.</td>\n",
       "      <td>[1, 1, 1, 1, 1, 1, 1, 1, 1, 1, 1, 1, 1, 1, 1, 1, 1, 1, 1, 1, 1, 1, 1, 1, 1, 1, 0, 0, 0, 0, 0, 0, 0, 0, 0, 0, 0, 0, 0, 0, 0, 0, 0, 0, 0, 0, 0, 0, 0, 0, 0, 0, 0, 0, 0, 0, 0, 0, 0, 0, 0, 0, 0, 0, 0, 0, 0, 0, 0, 0, 0, 0, 0, 0, 0, 0, 0, 0, 0, 0, 0, 0, 0, 0, 0, 0, 0, 0, 0, 0, 0, 0, 0, 0, 0, 0, 0, 0, 0, 0]</td>\n",
       "      <td>[0, 100, 437, 98, 11, 657, 19, 47, 4, 38, 437, 2283, 349, 183, 939, 1930, 19, 47, 4, 370, 146, 162, 98, 1372, 4, 2, 1, 1, 1, 1, 1, 1, 1, 1, 1, 1, 1, 1, 1, 1, 1, 1, 1, 1, 1, 1, 1, 1, 1, 1, 1, 1, 1, 1, 1, 1, 1, 1, 1, 1, 1, 1, 1, 1, 1, 1, 1, 1, 1, 1, 1, 1, 1, 1, 1, 1, 1, 1, 1, 1, 1, 1, 1, 1, 1, 1, 1, 1, 1, 1, 1, 1, 1, 1, 1, 1, 1, 1, 1, 1]</td>\n",
       "      <td>0</td>\n",
       "    </tr>\n",
       "    <tr>\n",
       "      <th>3</th>\n",
       "      <td>Then. You are eldest know.</td>\n",
       "      <td>[1, 1, 1, 1, 1, 1, 1, 1, 1, 0, 0, 0, 0, 0, 0, 0, 0, 0, 0, 0, 0, 0, 0, 0, 0, 0, 0, 0, 0, 0, 0, 0, 0, 0, 0, 0, 0, 0, 0, 0, 0, 0, 0, 0, 0, 0, 0, 0, 0, 0, 0, 0, 0, 0, 0, 0, 0, 0, 0, 0, 0, 0, 0, 0, 0, 0, 0, 0, 0, 0, 0, 0, 0, 0, 0, 0, 0, 0, 0, 0, 0, 0, 0, 0, 0, 0, 0, 0, 0, 0, 0, 0, 0, 0, 0, 0, 0, 0, 0, 0]</td>\n",
       "      <td>[0, 12948, 4, 370, 32, 21023, 216, 4, 2, 1, 1, 1, 1, 1, 1, 1, 1, 1, 1, 1, 1, 1, 1, 1, 1, 1, 1, 1, 1, 1, 1, 1, 1, 1, 1, 1, 1, 1, 1, 1, 1, 1, 1, 1, 1, 1, 1, 1, 1, 1, 1, 1, 1, 1, 1, 1, 1, 1, 1, 1, 1, 1, 1, 1, 1, 1, 1, 1, 1, 1, 1, 1, 1, 1, 1, 1, 1, 1, 1, 1, 1, 1, 1, 1, 1, 1, 1, 1, 1, 1, 1, 1, 1, 1, 1, 1, 1, 1, 1, 1]</td>\n",
       "      <td>0</td>\n",
       "    </tr>\n",
       "    <tr>\n",
       "      <th>4</th>\n",
       "      <td>Nope i'm not drivin... I neva develop da photos lei...Contains ellipses.</td>\n",
       "      <td>[1, 1, 1, 1, 1, 1, 1, 1, 1, 1, 1, 1, 1, 1, 1, 1, 1, 1, 1, 1, 1, 1, 1, 1, 1, 0, 0, 0, 0, 0, 0, 0, 0, 0, 0, 0, 0, 0, 0, 0, 0, 0, 0, 0, 0, 0, 0, 0, 0, 0, 0, 0, 0, 0, 0, 0, 0, 0, 0, 0, 0, 0, 0, 0, 0, 0, 0, 0, 0, 0, 0, 0, 0, 0, 0, 0, 0, 0, 0, 0, 0, 0, 0, 0, 0, 0, 0, 0, 0, 0, 0, 0, 0, 0, 0, 0, 0, 0, 0, 0]</td>\n",
       "      <td>[0, 487, 9877, 939, 437, 45, 13911, 6320, 734, 38, 3087, 3952, 2179, 2955, 2356, 2084, 118, 734, 26412, 5069, 28041, 7418, 293, 4, 2, 1, 1, 1, 1, 1, 1, 1, 1, 1, 1, 1, 1, 1, 1, 1, 1, 1, 1, 1, 1, 1, 1, 1, 1, 1, 1, 1, 1, 1, 1, 1, 1, 1, 1, 1, 1, 1, 1, 1, 1, 1, 1, 1, 1, 1, 1, 1, 1, 1, 1, 1, 1, 1, 1, 1, 1, 1, 1, 1, 1, 1, 1, 1, 1, 1, 1, 1, 1, 1, 1, 1, 1, 1, 1, 1]</td>\n",
       "      <td>0</td>\n",
       "    </tr>\n",
       "    <tr>\n",
       "      <th>5</th>\n",
       "      <td>wamma get laid?want real doggin locations sent direct to your mobile? join the UKs largest dogging network. txt dogs to 69696 now!nyt. ec2a. 3lp £1.50/msg.Contains pounds sign.</td>\n",
       "      <td>[1, 1, 1, 1, 1, 1, 1, 1, 1, 1, 1, 1, 1, 1, 1, 1, 1, 1, 1, 1, 1, 1, 1, 1, 1, 1, 1, 1, 1, 1, 1, 1, 1, 1, 1, 1, 1, 1, 1, 1, 1, 1, 1, 1, 1, 1, 1, 1, 1, 1, 1, 1, 1, 1, 1, 1, 1, 1, 0, 0, 0, 0, 0, 0, 0, 0, 0, 0, 0, 0, 0, 0, 0, 0, 0, 0, 0, 0, 0, 0, 0, 0, 0, 0, 0, 0, 0, 0, 0, 0, 0, 0, 0, 0, 0, 0, 0, 0, 0, 0]</td>\n",
       "      <td>[0, 605, 424, 1916, 120, 4976, 116, 32835, 588, 109, 6149, 179, 3237, 1051, 2228, 7, 110, 1830, 116, 1962, 5, 987, 29, 1154, 109, 23941, 1546, 4, 326, 11483, 3678, 7, 5913, 36999, 122, 328, 2855, 90, 4, 20508, 176, 102, 4, 155, 39031, 984, 134, 4, 1096, 73, 48593, 4, 26412, 5069, 2697, 1203, 4, 2, 1, 1, 1, 1, 1, 1, 1, 1, 1, 1, 1, 1, 1, 1, 1, 1, 1, 1, 1, 1, 1, 1, 1, 1, 1, 1, 1, 1, 1, 1, 1, 1, 1, 1, 1, 1, 1, 1, 1, 1, 1, 1]</td>\n",
       "      <td>1</td>\n",
       "    </tr>\n",
       "    <tr>\n",
       "      <th>6</th>\n",
       "      <td>Cheers for the card ... Is it that time of year already?Contains ellipses.</td>\n",
       "      <td>[1, 1, 1, 1, 1, 1, 1, 1, 1, 1, 1, 1, 1, 1, 1, 1, 1, 1, 1, 1, 1, 1, 0, 0, 0, 0, 0, 0, 0, 0, 0, 0, 0, 0, 0, 0, 0, 0, 0, 0, 0, 0, 0, 0, 0, 0, 0, 0, 0, 0, 0, 0, 0, 0, 0, 0, 0, 0, 0, 0, 0, 0, 0, 0, 0, 0, 0, 0, 0, 0, 0, 0, 0, 0, 0, 0, 0, 0, 0, 0, 0, 0, 0, 0, 0, 0, 0, 0, 0, 0, 0, 0, 0, 0, 0, 0, 0, 0, 0, 0]</td>\n",
       "      <td>[0, 16764, 268, 13, 5, 1886, 1666, 1534, 24, 14, 86, 9, 76, 416, 116, 26412, 5069, 28041, 7418, 293, 4, 2, 1, 1, 1, 1, 1, 1, 1, 1, 1, 1, 1, 1, 1, 1, 1, 1, 1, 1, 1, 1, 1, 1, 1, 1, 1, 1, 1, 1, 1, 1, 1, 1, 1, 1, 1, 1, 1, 1, 1, 1, 1, 1, 1, 1, 1, 1, 1, 1, 1, 1, 1, 1, 1, 1, 1, 1, 1, 1, 1, 1, 1, 1, 1, 1, 1, 1, 1, 1, 1, 1, 1, 1, 1, 1, 1, 1, 1, 1]</td>\n",
       "      <td>0</td>\n",
       "    </tr>\n",
       "    <tr>\n",
       "      <th>7</th>\n",
       "      <td>hi baby im sat on the bloody bus at the mo and i wont be home until about 7:30 wanna do somethin later? call me later ortxt back jess xx</td>\n",
       "      <td>[1, 1, 1, 1, 1, 1, 1, 1, 1, 1, 1, 1, 1, 1, 1, 1, 1, 1, 1, 1, 1, 1, 1, 1, 1, 1, 1, 1, 1, 1, 1, 1, 1, 1, 1, 1, 1, 1, 0, 0, 0, 0, 0, 0, 0, 0, 0, 0, 0, 0, 0, 0, 0, 0, 0, 0, 0, 0, 0, 0, 0, 0, 0, 0, 0, 0, 0, 0, 0, 0, 0, 0, 0, 0, 0, 0, 0, 0, 0, 0, 0, 0, 0, 0, 0, 0, 0, 0, 0, 0, 0, 0, 0, 0, 0, 0, 0, 0, 0, 0]</td>\n",
       "      <td>[0, 3592, 1928, 4356, 4005, 15, 5, 13629, 2353, 23, 5, 7458, 8, 939, 40067, 28, 184, 454, 59, 262, 35, 541, 23126, 109, 45420, 11040, 423, 116, 486, 162, 423, 50, 46795, 124, 1236, 3361, 37863, 2, 1, 1, 1, 1, 1, 1, 1, 1, 1, 1, 1, 1, 1, 1, 1, 1, 1, 1, 1, 1, 1, 1, 1, 1, 1, 1, 1, 1, 1, 1, 1, 1, 1, 1, 1, 1, 1, 1, 1, 1, 1, 1, 1, 1, 1, 1, 1, 1, 1, 1, 1, 1, 1, 1, 1, 1, 1, 1, 1, 1, 1, 1]</td>\n",
       "      <td>0</td>\n",
       "    </tr>\n",
       "    <tr>\n",
       "      <th>8</th>\n",
       "      <td>I'm serious. You are in the money base</td>\n",
       "      <td>[1, 1, 1, 1, 1, 1, 1, 1, 1, 1, 1, 1, 0, 0, 0, 0, 0, 0, 0, 0, 0, 0, 0, 0, 0, 0, 0, 0, 0, 0, 0, 0, 0, 0, 0, 0, 0, 0, 0, 0, 0, 0, 0, 0, 0, 0, 0, 0, 0, 0, 0, 0, 0, 0, 0, 0, 0, 0, 0, 0, 0, 0, 0, 0, 0, 0, 0, 0, 0, 0, 0, 0, 0, 0, 0, 0, 0, 0, 0, 0, 0, 0, 0, 0, 0, 0, 0, 0, 0, 0, 0, 0, 0, 0, 0, 0, 0, 0, 0, 0]</td>\n",
       "      <td>[0, 100, 437, 1473, 4, 370, 32, 11, 5, 418, 1542, 2, 1, 1, 1, 1, 1, 1, 1, 1, 1, 1, 1, 1, 1, 1, 1, 1, 1, 1, 1, 1, 1, 1, 1, 1, 1, 1, 1, 1, 1, 1, 1, 1, 1, 1, 1, 1, 1, 1, 1, 1, 1, 1, 1, 1, 1, 1, 1, 1, 1, 1, 1, 1, 1, 1, 1, 1, 1, 1, 1, 1, 1, 1, 1, 1, 1, 1, 1, 1, 1, 1, 1, 1, 1, 1, 1, 1, 1, 1, 1, 1, 1, 1, 1, 1, 1, 1, 1, 1]</td>\n",
       "      <td>0</td>\n",
       "    </tr>\n",
       "    <tr>\n",
       "      <th>9</th>\n",
       "      <td>SMS AUCTION - A BRAND NEW Nokia 7250 is up 4 auction today! Auction is FREE 2 join &amp; take part! Txt NOKIA to 86021 now!Contains many digits.</td>\n",
       "      <td>[1, 1, 1, 1, 1, 1, 1, 1, 1, 1, 1, 1, 1, 1, 1, 1, 1, 1, 1, 1, 1, 1, 1, 1, 1, 1, 1, 1, 1, 1, 1, 1, 1, 1, 1, 1, 1, 1, 1, 1, 1, 1, 1, 1, 1, 1, 0, 0, 0, 0, 0, 0, 0, 0, 0, 0, 0, 0, 0, 0, 0, 0, 0, 0, 0, 0, 0, 0, 0, 0, 0, 0, 0, 0, 0, 0, 0, 0, 0, 0, 0, 0, 0, 0, 0, 0, 0, 0, 0, 0, 0, 0, 0, 0, 0, 0, 0, 0, 0, 0]</td>\n",
       "      <td>[0, 104, 6222, 83, 28120, 7744, 111, 83, 6823, 5945, 5178, 10951, 4801, 1096, 16, 62, 204, 4912, 452, 328, 26342, 16, 5198, 132, 1962, 359, 185, 233, 328, 255, 11483, 8228, 530, 2889, 7, 290, 2466, 2146, 122, 328, 26412, 5069, 171, 15769, 4, 2, 1, 1, 1, 1, 1, 1, 1, 1, 1, 1, 1, 1, 1, 1, 1, 1, 1, 1, 1, 1, 1, 1, 1, 1, 1, 1, 1, 1, 1, 1, 1, 1, 1, 1, 1, 1, 1, 1, 1, 1, 1, 1, 1, 1, 1, 1, 1, 1, 1, 1, 1, 1, 1, 1]</td>\n",
       "      <td>1</td>\n",
       "    </tr>\n",
       "  </tbody>\n",
       "</table>"
      ],
      "text/plain": [
       "<IPython.core.display.HTML object>"
      ]
     },
     "metadata": {},
     "output_type": "display_data"
    }
   ],
   "source": [
    "show_elements(tokenized_amended_Dataset['train'])"
   ]
  },
  {
   "cell_type": "markdown",
   "id": "fbb844c9",
   "metadata": {},
   "source": [
    "## export"
   ]
  },
  {
   "cell_type": "code",
   "execution_count": 31,
   "id": "4c999f1f",
   "metadata": {},
   "outputs": [],
   "source": [
    "tokenized_amended_Dataset.save_to_disk(r\"C:\\Users\\tanch\\Documents\\GitHub\\Spam Detection (local)\\data\\tokenized_amended_Dataset\")"
   ]
  },
  {
   "cell_type": "code",
   "execution_count": null,
   "id": "44f97b3f",
   "metadata": {},
   "outputs": [],
   "source": []
  }
 ],
 "metadata": {
  "kernelspec": {
   "display_name": "Python 3",
   "language": "python",
   "name": "python3"
  },
  "language_info": {
   "codemirror_mode": {
    "name": "ipython",
    "version": 3
   },
   "file_extension": ".py",
   "mimetype": "text/x-python",
   "name": "python",
   "nbconvert_exporter": "python",
   "pygments_lexer": "ipython3",
   "version": "3.8.3"
  }
 },
 "nbformat": 4,
 "nbformat_minor": 5
}
